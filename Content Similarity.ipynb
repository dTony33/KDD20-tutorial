{
  "nbformat": 4,
  "nbformat_minor": 0,
  "metadata": {
    "colab": {
      "name": "Untitled2.ipynb",
      "provenance": [],
      "collapsed_sections": [],
      "authorship_tag": "ABX9TyOu60WZztP/NoB8FDlefTEb",
      "include_colab_link": true
    },
    "kernelspec": {
      "name": "python3",
      "display_name": "Python 3"
    }
  },
  "cells": [
    {
      "cell_type": "markdown",
      "metadata": {
        "id": "view-in-github",
        "colab_type": "text"
      },
      "source": [
        "<a href=\"https://colab.research.google.com/github/dTony33/KDD20-tutorial/blob/master/Content%20Similarity.ipynb\" target=\"_parent\"><img src=\"https://colab.research.google.com/assets/colab-badge.svg\" alt=\"Open In Colab\"/></a>"
      ]
    },
    {
      "cell_type": "code",
      "metadata": {
        "id": "PiCe7Q_a9ioQ"
      },
      "source": [
        "import nltk"
      ],
      "execution_count": 4,
      "outputs": []
    },
    {
      "cell_type": "code",
      "metadata": {
        "colab": {
          "base_uri": "https://localhost:8080/"
        },
        "id": "aaTeFiVF_cwV",
        "outputId": "bbdde465-9b21-43f5-a55d-01ace5705041"
      },
      "source": [
        "nltk.download('punkt')\n"
      ],
      "execution_count": 5,
      "outputs": [
        {
          "output_type": "stream",
          "text": [
            "[nltk_data] Downloading package punkt to /root/nltk_data...\n",
            "[nltk_data]   Package punkt is already up-to-date!\n"
          ],
          "name": "stdout"
        },
        {
          "output_type": "execute_result",
          "data": {
            "text/plain": [
              "True"
            ]
          },
          "metadata": {
            "tags": []
          },
          "execution_count": 5
        }
      ]
    },
    {
      "cell_type": "code",
      "metadata": {
        "id": "x1Ur7miR_gMd"
      },
      "source": [
        "from nltk.tokenize import word_tokenize,sent_tokenize\n",
        "\n"
      ],
      "execution_count": 6,
      "outputs": []
    },
    {
      "cell_type": "code",
      "metadata": {
        "id": "VOlyUbS0_lTS"
      },
      "source": [
        "import numpy as np\n"
      ],
      "execution_count": 7,
      "outputs": []
    },
    {
      "cell_type": "code",
      "metadata": {
        "colab": {
          "base_uri": "https://localhost:8080/"
        },
        "id": "oiowpUR6_oeq",
        "outputId": "54e58a02-350c-4090-cb43-ae5c8e8aa606"
      },
      "source": [
        "!git clone https://github.com/dTony33/Web-Scrapping.git\n"
      ],
      "execution_count": 8,
      "outputs": [
        {
          "output_type": "stream",
          "text": [
            "fatal: destination path 'Web-Scrapping' already exists and is not an empty directory.\n"
          ],
          "name": "stdout"
        }
      ]
    },
    {
      "cell_type": "code",
      "metadata": {
        "id": "AlqyFucZ_t7f"
      },
      "source": [
        "X_train = open('/content/Web-Scrapping/1stUrlData.txt')\n"
      ],
      "execution_count": 9,
      "outputs": []
    },
    {
      "cell_type": "code",
      "metadata": {
        "colab": {
          "base_uri": "https://localhost:8080/"
        },
        "id": "MU_vpk4mHFqA",
        "outputId": "8461c7ed-2978-49ae-cf0f-a409988a5b1f"
      },
      "source": [
        "tokenized_word = []\n",
        "for i in X_train:\n",
        "  tokenized_word.append(word_tokenize(i.lower()))\n",
        "print(tokenized_word)  "
      ],
      "execution_count": 10,
      "outputs": [
        {
          "output_type": "stream",
          "text": [
            "[['the', 'letter', 'said', 'it', 'would', '``', 'always', 'remain', 'an', 'integral', 'part', 'of', 'the', 'collective', 'leadership', '(', 'file', ')', 'new', 'delhi', ':', 'the', 'letter', 'by', '23', 'congress', 'dissidents', 'to', 'party', 'chief', 'sonia', 'gandhi', 'says', 'there', 'has', 'been', 'a', '``', 'steady', 'decline', 'of', 'the', 'party', \"''\", ',', 'witnessed', 'in', 'the', '2014', 'and', '2019', 'elections', ',', 'but', 'there', 'has', 'been', 'no', 'honest', 'introspection', 'to', 'analyse', 'the', 'reasons', '.', 'it', 'also', 'says', 'the', 'congress', 'is', '``', 'no', 'more', 'a', 'nurturing', 'leadership', \"''\", 'and', 'calls', 'for', '``', 'free', ',', 'fair', 'and', 'democratic', \"''\", 'elections', '.', '``', 'we', 'have', 'witnessed', 'a', 'steady', 'decline', 'of', 'the', 'congress', 'party', 'reflected', 'in', 'successive', 'electoral', 'verdicts', 'in', 'states', 'and', 'general', 'elections', 'in', '2014', 'and', '2019.', 'reasons', 'are', 'manifold', 'and', 'need', 'to', 'be', 'immediately', 'identified', '.', 'otherwise', ',', 'the', 'congress', 'party', 'will', 'find', 'itself', 'marginalized', ',', 'both', 'in', 'the', 'states', ',', 'which', 'is', 'already', 'apparent', ',', 'as', 'well', 'as', 'at', 'the', 'national', 'level', ',', \"''\", 'says', 'the', 'letter', 'accessed', 'by', 'ndtv', '.', '``', 'the', 'erosion', 'of', 'support', 'base', 'and', ',', 'in', 'particular', ',', 'losing', 'the', 'confidence', 'of', 'the', 'youth', ',', 'is', 'a', 'matter', 'of', 'serious', 'concern', ',', \"''\", 'it', 'says.veteran', 'leaders', 'ghulam', 'nabi', 'azad', ',', 'kapil', 'sibal', ',', 'anand', 'sharma', ',', 'mukul', 'wasnik', 'and', 'shashi', 'tharoor', 'are', 'among', 'the', 'signatories', 'to', 'the', 'letter', ',', 'which', 'has', 'deeply', 'rattled', 'the', 'party', 'and', 'split', 'it', 'down', 'the', 'middle.the', 'dissenters', 'write', 'that', 'in', 'the', 'last', 'two', 'national', 'elections', ',', 'india', 'added', '18.7', 'crore', 'first', 'time', 'voters', 'but', 'the', 'youth', 'voted', 'overwhelmingly', 'for', 'modi', 'and', 'the', 'bjp', '.', 'while', 'the', 'bjp', \"'s\", 'vote', 'share', 'sharply', 'increased', 'from', '7.84', 'crores', 'in', '2009', 'to', '17.6', 'crores', 'in', '2014', 'and', 'to', '22.9', 'crores', 'in', '2019', ',', 'the', 'congress', 'lost', 'its', 'share', 'of', '1.23', 'crore', 'of', 'the', 'votes', 'polled', 'in', '2009', '.', '``', 'even', 'after', '14', 'months', 'of', 'the', '2019', 'electoral', 'verdict', ',', 'the', 'congress', 'party', 'has', 'not', 'undertaken', 'any', 'honest', 'introspection', 'to', 'analyse', 'the', 'reasons', 'for', 'its', 'continued', 'decline', '.', 'in', 'order', 'to', 'stem', 'the', 'decline', ',', 'we', 'have', 'taken', 'upon', 'ourselves', 'to', 'be', 'open', 'and', 'frank', 'so', 'that', 'the', 'congress', 'party', \"'s\", 'future', ',', 'which', 'presently', 'is', 'at', 'stake', ',', 'is', 'not', 'jeopardized', 'any', 'further', ',', \"''\", 'said', 'the', 'letter', '.', '``', 'the', 'uncertainty', 'over', 'the', 'leadership', 'and', 'the', 'drift', ',', 'has', 'demoralised', 'the', 'congress', 'workers', 'and', 'further', 'weakened', 'the', 'party', '.', 'there', 'has', 'been', 'an', 'erosion', 'of', 'the', 'support', 'base', 'with', 'leaders', 'and', 'functionaries', 'leaving', 'the', 'party', 'in', 'a', 'number', 'of', 'states', '.', '``', 'the', 'letter', 'also', 'said', 'the', 'congress', 'working', 'committee', 'was', 'not', 'effectively', 'guiding', 'the', 'party', 'and', 'its', 'meetings', 'were', '``', 'merely', 'episodic', 'and', 'reactive', 'to', 'contemporary', 'developments', \"''\", 'instead', 'of', 'being', 'a', 'deliberative', 'body', 'for', 'setting', 'the', 'national', 'agenda', 'and', 'for', 'policy', 'initiatives.it', 'also', 'criticized', 'congress', 'parliamentary', 'party', 'meetings', ',', 'saying', 'it', 'has', '``', 'been', 'reduced', 'to', 'the', 'customary', 'address', 'of', 'the', 'cpp', 'leader', 'and', 'obituary', 'references', \"''\", 'without', 'discussions.the', 'congress', ',', 'said', 'the', 'dissenters', ',', 'was', '``', 'no', 'more', 'a', 'nurturing', 'leadership', 'at', 'the', 'state', 'and', 'national', 'level', \"''\", '.', 'they', 'said', 'merit', 'based', 'and', 'consensus-backed', 'selection', 'has', 'been', 'disrupted', 'and', '``', 'resource-rich', 'individuals', 'or', 'those', 'backed', 'by', 'powerful', 'patrons', \"''\", 'had', 'captured', 'organisations', 'like', 'the', 'youth', 'congress.promotedlisten', 'to', 'the', 'latest', 'songs', ',', 'only', 'on', 'jiosaavn.comthe', 'ginger', 'group', 'listed', 'their', 'suggestions', 'to', '``', 'revitalise', 'the', 'party', 'and', 'to', 'give', 'millions', 'of', 'workers', 'a', 'sense', 'of', 'purpose', \"''\", 'full', 'time', 'and', 'effective', 'leadership', 'active', 'in', 'the', 'field', 'and', 'visible', ',', 'and', 'available', 'at', 'aicc', 'and', 'pcc', 'headquarters.the', 'central', 'parliamentary', 'board', '(', 'cpb', ')', 'be', 'urgently', 'constituted', 'for', 'collective', 'thinking', 'and', 'decision-makingelections', 'of', 'cwc', 'members', 'and', 'block', ',', 'state', 'congress', 'chiefs', 'and', 'aicc', 'members', 'in', 'a', 'transparent', 'manner.important', 'panels', 'to', 'be', 'reconstituted', 'to', 'include', '``', 'leaders', 'with', 'organisational', 'background', 'and', 'active', 'field', 'knowledge', 'and', 'experience', \"''\", '.an', '``', 'institutional', 'leadership', 'mechanism', \"''\", 'to', 'collectively', 'guide', 'the', 'party', \"'s\", 'revival.praising', 'the', 'nehru-gandhi', 'family', ',', 'the', 'letter', 'said', 'it', 'would', '``', 'always', 'remain', 'an', 'integral', 'part', 'of', 'the', 'collective', 'leadership', 'of', 'the', 'congress', 'party', \"''\", '.it', 'also', 'said', 'to', 'create', 'a', 'national', 'coalition', 'of', 'democratic', 'and', 'secular', 'forces', 'to', 'confront', 'and', 'defeat', 'the', 'bjp', 'agenda', ',', '``', 'a', 'sincere', 'effort', 'should', 'be', 'made', 'to', 'bring', 'on', 'one', 'platform', 'leaders', 'of', 'political', 'parties', ',', 'who', 'were', 'once', 'part', 'of', 'the', 'congress', \"''\", '.', 'comments']]\n"
          ],
          "name": "stdout"
        }
      ]
    },
    {
      "cell_type": "code",
      "metadata": {
        "colab": {
          "base_uri": "https://localhost:8080/"
        },
        "id": "sCFEnpZFHWmb",
        "outputId": "04f94b9b-b3bc-4dcb-9db9-a44264abd8e0"
      },
      "source": [
        "tokenized_sent = []\n",
        "for i in X_train:\n",
        "  tokenized_sent.append(sent_tokenize(i.lower()))\n",
        "\n",
        "tokenized_sent"
      ],
      "execution_count": 13,
      "outputs": [
        {
          "output_type": "execute_result",
          "data": {
            "text/plain": [
              "[]"
            ]
          },
          "metadata": {
            "tags": []
          },
          "execution_count": 13
        }
      ]
    },
    {
      "cell_type": "code",
      "metadata": {
        "id": "bXz9a2NYJKJh"
      },
      "source": [
        "def cosine(u,v):\n",
        "  return np.doc(u,v)/(np.linalg.norm(u) * np.linalg.norm(v))"
      ],
      "execution_count": 14,
      "outputs": []
    },
    {
      "cell_type": "code",
      "metadata": {
        "colab": {
          "base_uri": "https://localhost:8080/"
        },
        "id": "TfDMiAR5JPNp",
        "outputId": "c6d846f3-14ca-4676-c7d9-1f0901c51a08"
      },
      "source": [
        "from gensim.models.doc2vec import Doc2Vec, TaggedDocument\n",
        "tagged_data = [TaggedDocument(d,[i]) for i, d in enumerate(tokenized_word)]\n",
        "model = Doc2Vec(tagged_data, vector_size = 20, window = 2, min_count = 1, epochs = 100)\n",
        "model.wv.vocab"
      ],
      "execution_count": 23,
      "outputs": [
        {
          "output_type": "execute_result",
          "data": {
            "text/plain": [
              "{\"''\": <gensim.models.keyedvectors.Vocab at 0x7ff9064f3160>,\n",
              " \"'s\": <gensim.models.keyedvectors.Vocab at 0x7ff9064f17f0>,\n",
              " '(': <gensim.models.keyedvectors.Vocab at 0x7ff906545c50>,\n",
              " ')': <gensim.models.keyedvectors.Vocab at 0x7ff906545cc0>,\n",
              " ',': <gensim.models.keyedvectors.Vocab at 0x7ff9064f3198>,\n",
              " '.': <gensim.models.keyedvectors.Vocab at 0x7ff9064f3470>,\n",
              " '.an': <gensim.models.keyedvectors.Vocab at 0x7ff9064fe7b8>,\n",
              " '.it': <gensim.models.keyedvectors.Vocab at 0x7ff9064fe978>,\n",
              " '1.23': <gensim.models.keyedvectors.Vocab at 0x7ff9064f1ac8>,\n",
              " '14': <gensim.models.keyedvectors.Vocab at 0x7ff9064f1be0>,\n",
              " '17.6': <gensim.models.keyedvectors.Vocab at 0x7ff9064f19e8>,\n",
              " '18.7': <gensim.models.keyedvectors.Vocab at 0x7ff9064f15c0>,\n",
              " '2009': <gensim.models.keyedvectors.Vocab at 0x7ff9064f19b0>,\n",
              " '2014': <gensim.models.keyedvectors.Vocab at 0x7ff9064f3240>,\n",
              " '2019': <gensim.models.keyedvectors.Vocab at 0x7ff9064f32b0>,\n",
              " '2019.': <gensim.models.keyedvectors.Vocab at 0x7ff9064f3860>,\n",
              " '22.9': <gensim.models.keyedvectors.Vocab at 0x7ff9064f1a20>,\n",
              " '23': <gensim.models.keyedvectors.Vocab at 0x7ff906545dd8>,\n",
              " '7.84': <gensim.models.keyedvectors.Vocab at 0x7ff9064f1940>,\n",
              " ':': <gensim.models.keyedvectors.Vocab at 0x7ff906545d68>,\n",
              " '``': <gensim.models.keyedvectors.Vocab at 0x7ff906545a58>,\n",
              " 'a': <gensim.models.keyedvectors.Vocab at 0x7ff9064f30b8>,\n",
              " 'accessed': <gensim.models.keyedvectors.Vocab at 0x7ff9064f3cf8>,\n",
              " 'active': <gensim.models.keyedvectors.Vocab at 0x7ff9064fe1d0>,\n",
              " 'added': <gensim.models.keyedvectors.Vocab at 0x7ff9064f1588>,\n",
              " 'address': <gensim.models.keyedvectors.Vocab at 0x7ff9064fb828>,\n",
              " 'after': <gensim.models.keyedvectors.Vocab at 0x7ff9064f1ba8>,\n",
              " 'agenda': <gensim.models.keyedvectors.Vocab at 0x7ff9064fb668>,\n",
              " 'aicc': <gensim.models.keyedvectors.Vocab at 0x7ff9064fe2b0>,\n",
              " 'already': <gensim.models.keyedvectors.Vocab at 0x7ff9064f3b70>,\n",
              " 'also': <gensim.models.keyedvectors.Vocab at 0x7ff9064f34a8>,\n",
              " 'always': <gensim.models.keyedvectors.Vocab at 0x7ff906545a90>,\n",
              " 'among': <gensim.models.keyedvectors.Vocab at 0x7ff9064f12b0>,\n",
              " 'an': <gensim.models.keyedvectors.Vocab at 0x7ff906545b00>,\n",
              " 'analyse': <gensim.models.keyedvectors.Vocab at 0x7ff9064f3400>,\n",
              " 'anand': <gensim.models.keyedvectors.Vocab at 0x7ff9064f1160>,\n",
              " 'and': <gensim.models.keyedvectors.Vocab at 0x7ff9064f3278>,\n",
              " 'any': <gensim.models.keyedvectors.Vocab at 0x7ff9064f1cf8>,\n",
              " 'apparent': <gensim.models.keyedvectors.Vocab at 0x7ff9064f3ba8>,\n",
              " 'are': <gensim.models.keyedvectors.Vocab at 0x7ff9064f3898>,\n",
              " 'as': <gensim.models.keyedvectors.Vocab at 0x7ff9064f3be0>,\n",
              " 'at': <gensim.models.keyedvectors.Vocab at 0x7ff9064f3c50>,\n",
              " 'available': <gensim.models.keyedvectors.Vocab at 0x7ff9064fe278>,\n",
              " 'azad': <gensim.models.keyedvectors.Vocab at 0x7ff9064f10b8>,\n",
              " 'backed': <gensim.models.keyedvectors.Vocab at 0x7ff9064fbc18>,\n",
              " 'background': <gensim.models.keyedvectors.Vocab at 0x7ff9064fe710>,\n",
              " 'base': <gensim.models.keyedvectors.Vocab at 0x7ff9064f3dd8>,\n",
              " 'based': <gensim.models.keyedvectors.Vocab at 0x7ff9064fba58>,\n",
              " 'be': <gensim.models.keyedvectors.Vocab at 0x7ff9064f3940>,\n",
              " 'been': <gensim.models.keyedvectors.Vocab at 0x7ff9064f3080>,\n",
              " 'being': <gensim.models.keyedvectors.Vocab at 0x7ff9064fb588>,\n",
              " 'bjp': <gensim.models.keyedvectors.Vocab at 0x7ff9064f1780>,\n",
              " 'block': <gensim.models.keyedvectors.Vocab at 0x7ff9064fe550>,\n",
              " 'board': <gensim.models.keyedvectors.Vocab at 0x7ff9064fe390>,\n",
              " 'body': <gensim.models.keyedvectors.Vocab at 0x7ff9064fb5f8>,\n",
              " 'both': <gensim.models.keyedvectors.Vocab at 0x7ff9064f3b00>,\n",
              " 'bring': <gensim.models.keyedvectors.Vocab at 0x7ff9064febe0>,\n",
              " 'but': <gensim.models.keyedvectors.Vocab at 0x7ff9064f3320>,\n",
              " 'by': <gensim.models.keyedvectors.Vocab at 0x7ff906545da0>,\n",
              " 'calls': <gensim.models.keyedvectors.Vocab at 0x7ff9064f3588>,\n",
              " 'captured': <gensim.models.keyedvectors.Vocab at 0x7ff9064fbcf8>,\n",
              " 'central': <gensim.models.keyedvectors.Vocab at 0x7ff9064fe358>,\n",
              " 'chief': <gensim.models.keyedvectors.Vocab at 0x7ff906545ef0>,\n",
              " 'chiefs': <gensim.models.keyedvectors.Vocab at 0x7ff9064fe588>,\n",
              " 'coalition': <gensim.models.keyedvectors.Vocab at 0x7ff9064fe9e8>,\n",
              " 'collective': <gensim.models.keyedvectors.Vocab at 0x7ff906545be0>,\n",
              " 'collectively': <gensim.models.keyedvectors.Vocab at 0x7ff9064fe860>,\n",
              " 'comments': <gensim.models.keyedvectors.Vocab at 0x7ff9064fed68>,\n",
              " 'committee': <gensim.models.keyedvectors.Vocab at 0x7ff9064fb2e8>,\n",
              " 'concern': <gensim.models.keyedvectors.Vocab at 0x7ff9064f3f60>,\n",
              " 'confidence': <gensim.models.keyedvectors.Vocab at 0x7ff9064f3e80>,\n",
              " 'confront': <gensim.models.keyedvectors.Vocab at 0x7ff9064fea90>,\n",
              " 'congress': <gensim.models.keyedvectors.Vocab at 0x7ff906545e10>,\n",
              " 'congress.promotedlisten': <gensim.models.keyedvectors.Vocab at 0x7ff9064fbda0>,\n",
              " 'consensus-backed': <gensim.models.keyedvectors.Vocab at 0x7ff9064fba90>,\n",
              " 'constituted': <gensim.models.keyedvectors.Vocab at 0x7ff9064fe438>,\n",
              " 'contemporary': <gensim.models.keyedvectors.Vocab at 0x7ff9064fb4e0>,\n",
              " 'continued': <gensim.models.keyedvectors.Vocab at 0x7ff9064f1d30>,\n",
              " 'cpb': <gensim.models.keyedvectors.Vocab at 0x7ff9064fe3c8>,\n",
              " 'cpp': <gensim.models.keyedvectors.Vocab at 0x7ff9064fb860>,\n",
              " 'create': <gensim.models.keyedvectors.Vocab at 0x7ff9064fe9b0>,\n",
              " 'criticized': <gensim.models.keyedvectors.Vocab at 0x7ff9064fb710>,\n",
              " 'crore': <gensim.models.keyedvectors.Vocab at 0x7ff9064f15f8>,\n",
              " 'crores': <gensim.models.keyedvectors.Vocab at 0x7ff9064f1978>,\n",
              " 'customary': <gensim.models.keyedvectors.Vocab at 0x7ff9064fb7f0>,\n",
              " 'cwc': <gensim.models.keyedvectors.Vocab at 0x7ff9064fe4e0>,\n",
              " 'decision-makingelections': <gensim.models.keyedvectors.Vocab at 0x7ff9064fe4a8>,\n",
              " 'decline': <gensim.models.keyedvectors.Vocab at 0x7ff9064f3128>,\n",
              " 'deeply': <gensim.models.keyedvectors.Vocab at 0x7ff9064f1320>,\n",
              " 'defeat': <gensim.models.keyedvectors.Vocab at 0x7ff9064feac8>,\n",
              " 'delhi': <gensim.models.keyedvectors.Vocab at 0x7ff906545d30>,\n",
              " 'deliberative': <gensim.models.keyedvectors.Vocab at 0x7ff9064fb5c0>,\n",
              " 'democratic': <gensim.models.keyedvectors.Vocab at 0x7ff9064f3668>,\n",
              " 'demoralised': <gensim.models.keyedvectors.Vocab at 0x7ff9064fb128>,\n",
              " 'developments': <gensim.models.keyedvectors.Vocab at 0x7ff9064fb518>,\n",
              " 'discussions.the': <gensim.models.keyedvectors.Vocab at 0x7ff9064fb978>,\n",
              " 'disrupted': <gensim.models.keyedvectors.Vocab at 0x7ff9064fbb00>,\n",
              " 'dissenters': <gensim.models.keyedvectors.Vocab at 0x7ff9064f1438>,\n",
              " 'dissidents': <gensim.models.keyedvectors.Vocab at 0x7ff906545e48>,\n",
              " 'down': <gensim.models.keyedvectors.Vocab at 0x7ff9064f13c8>,\n",
              " 'drift': <gensim.models.keyedvectors.Vocab at 0x7ff9064fb0f0>,\n",
              " 'effective': <gensim.models.keyedvectors.Vocab at 0x7ff9064fe198>,\n",
              " 'effectively': <gensim.models.keyedvectors.Vocab at 0x7ff9064fb358>,\n",
              " 'effort': <gensim.models.keyedvectors.Vocab at 0x7ff9064feb38>,\n",
              " 'elections': <gensim.models.keyedvectors.Vocab at 0x7ff9064f32e8>,\n",
              " 'electoral': <gensim.models.keyedvectors.Vocab at 0x7ff9064f3780>,\n",
              " 'episodic': <gensim.models.keyedvectors.Vocab at 0x7ff9064fb470>,\n",
              " 'erosion': <gensim.models.keyedvectors.Vocab at 0x7ff9064f3d68>,\n",
              " 'even': <gensim.models.keyedvectors.Vocab at 0x7ff9064f1b70>,\n",
              " 'experience': <gensim.models.keyedvectors.Vocab at 0x7ff9064fe780>,\n",
              " 'fair': <gensim.models.keyedvectors.Vocab at 0x7ff9064f3630>,\n",
              " 'family': <gensim.models.keyedvectors.Vocab at 0x7ff9064fe940>,\n",
              " 'field': <gensim.models.keyedvectors.Vocab at 0x7ff9064fe208>,\n",
              " 'file': <gensim.models.keyedvectors.Vocab at 0x7ff906545c88>,\n",
              " 'find': <gensim.models.keyedvectors.Vocab at 0x7ff9064f3a58>,\n",
              " 'first': <gensim.models.keyedvectors.Vocab at 0x7ff9064f1630>,\n",
              " 'for': <gensim.models.keyedvectors.Vocab at 0x7ff9064f35c0>,\n",
              " 'forces': <gensim.models.keyedvectors.Vocab at 0x7ff9064fea58>,\n",
              " 'frank': <gensim.models.keyedvectors.Vocab at 0x7ff9064f1eb8>,\n",
              " 'free': <gensim.models.keyedvectors.Vocab at 0x7ff9064f35f8>,\n",
              " 'from': <gensim.models.keyedvectors.Vocab at 0x7ff9064f1908>,\n",
              " 'full': <gensim.models.keyedvectors.Vocab at 0x7ff9064fe160>,\n",
              " 'functionaries': <gensim.models.keyedvectors.Vocab at 0x7ff9064fb208>,\n",
              " 'further': <gensim.models.keyedvectors.Vocab at 0x7ff9064fb048>,\n",
              " 'future': <gensim.models.keyedvectors.Vocab at 0x7ff9064f1f28>,\n",
              " 'gandhi': <gensim.models.keyedvectors.Vocab at 0x7ff906545f60>,\n",
              " 'general': <gensim.models.keyedvectors.Vocab at 0x7ff9064f3828>,\n",
              " 'ghulam': <gensim.models.keyedvectors.Vocab at 0x7ff9064f1048>,\n",
              " 'ginger': <gensim.models.keyedvectors.Vocab at 0x7ff9064fbef0>,\n",
              " 'give': <gensim.models.keyedvectors.Vocab at 0x7ff9064fe080>,\n",
              " 'group': <gensim.models.keyedvectors.Vocab at 0x7ff9064fbf28>,\n",
              " 'guide': <gensim.models.keyedvectors.Vocab at 0x7ff9064fe898>,\n",
              " 'guiding': <gensim.models.keyedvectors.Vocab at 0x7ff9064fb390>,\n",
              " 'had': <gensim.models.keyedvectors.Vocab at 0x7ff9064fbcc0>,\n",
              " 'has': <gensim.models.keyedvectors.Vocab at 0x7ff9064f3048>,\n",
              " 'have': <gensim.models.keyedvectors.Vocab at 0x7ff9064f36d8>,\n",
              " 'headquarters.the': <gensim.models.keyedvectors.Vocab at 0x7ff9064fe320>,\n",
              " 'honest': <gensim.models.keyedvectors.Vocab at 0x7ff9064f3390>,\n",
              " 'identified': <gensim.models.keyedvectors.Vocab at 0x7ff9064f39b0>,\n",
              " 'immediately': <gensim.models.keyedvectors.Vocab at 0x7ff9064f3978>,\n",
              " 'in': <gensim.models.keyedvectors.Vocab at 0x7ff9064f3208>,\n",
              " 'include': <gensim.models.keyedvectors.Vocab at 0x7ff9064fe6a0>,\n",
              " 'increased': <gensim.models.keyedvectors.Vocab at 0x7ff9064f18d0>,\n",
              " 'india': <gensim.models.keyedvectors.Vocab at 0x7ff9064f1550>,\n",
              " 'individuals': <gensim.models.keyedvectors.Vocab at 0x7ff9064fbb70>,\n",
              " 'initiatives.it': <gensim.models.keyedvectors.Vocab at 0x7ff9064fb6d8>,\n",
              " 'instead': <gensim.models.keyedvectors.Vocab at 0x7ff9064fb550>,\n",
              " 'institutional': <gensim.models.keyedvectors.Vocab at 0x7ff9064fe7f0>,\n",
              " 'integral': <gensim.models.keyedvectors.Vocab at 0x7ff906545b38>,\n",
              " 'introspection': <gensim.models.keyedvectors.Vocab at 0x7ff9064f33c8>,\n",
              " 'is': <gensim.models.keyedvectors.Vocab at 0x7ff9064f34e0>,\n",
              " 'it': <gensim.models.keyedvectors.Vocab at 0x7ff9065459b0>,\n",
              " 'its': <gensim.models.keyedvectors.Vocab at 0x7ff9064f1a90>,\n",
              " 'itself': <gensim.models.keyedvectors.Vocab at 0x7ff9064f3a90>,\n",
              " 'jeopardized': <gensim.models.keyedvectors.Vocab at 0x7ff9064f1fd0>,\n",
              " 'jiosaavn.comthe': <gensim.models.keyedvectors.Vocab at 0x7ff9064fbeb8>,\n",
              " 'kapil': <gensim.models.keyedvectors.Vocab at 0x7ff9064f10f0>,\n",
              " 'knowledge': <gensim.models.keyedvectors.Vocab at 0x7ff9064fe748>,\n",
              " 'last': <gensim.models.keyedvectors.Vocab at 0x7ff9064f14e0>,\n",
              " 'latest': <gensim.models.keyedvectors.Vocab at 0x7ff9064fbdd8>,\n",
              " 'leader': <gensim.models.keyedvectors.Vocab at 0x7ff9064fb898>,\n",
              " 'leaders': <gensim.models.keyedvectors.Vocab at 0x7ff9064f3fd0>,\n",
              " 'leadership': <gensim.models.keyedvectors.Vocab at 0x7ff906545c18>,\n",
              " 'leaving': <gensim.models.keyedvectors.Vocab at 0x7ff9064fb240>,\n",
              " 'letter': <gensim.models.keyedvectors.Vocab at 0x7ff9236ac550>,\n",
              " 'level': <gensim.models.keyedvectors.Vocab at 0x7ff9064f3cc0>,\n",
              " 'like': <gensim.models.keyedvectors.Vocab at 0x7ff9064fbd68>,\n",
              " 'listed': <gensim.models.keyedvectors.Vocab at 0x7ff9064fbf60>,\n",
              " 'losing': <gensim.models.keyedvectors.Vocab at 0x7ff9064f3e48>,\n",
              " 'lost': <gensim.models.keyedvectors.Vocab at 0x7ff9064f1a58>,\n",
              " 'made': <gensim.models.keyedvectors.Vocab at 0x7ff9064feba8>,\n",
              " 'manifold': <gensim.models.keyedvectors.Vocab at 0x7ff9064f38d0>,\n",
              " 'manner.important': <gensim.models.keyedvectors.Vocab at 0x7ff9064fe5f8>,\n",
              " 'marginalized': <gensim.models.keyedvectors.Vocab at 0x7ff9064f3ac8>,\n",
              " 'matter': <gensim.models.keyedvectors.Vocab at 0x7ff9064f3ef0>,\n",
              " 'mechanism': <gensim.models.keyedvectors.Vocab at 0x7ff9064fe828>,\n",
              " 'meetings': <gensim.models.keyedvectors.Vocab at 0x7ff9064fb3c8>,\n",
              " 'members': <gensim.models.keyedvectors.Vocab at 0x7ff9064fe518>,\n",
              " 'merely': <gensim.models.keyedvectors.Vocab at 0x7ff9064fb438>,\n",
              " 'merit': <gensim.models.keyedvectors.Vocab at 0x7ff9064fba20>,\n",
              " 'middle.the': <gensim.models.keyedvectors.Vocab at 0x7ff9064f1400>,\n",
              " 'millions': <gensim.models.keyedvectors.Vocab at 0x7ff9064fe0b8>,\n",
              " 'modi': <gensim.models.keyedvectors.Vocab at 0x7ff9064f1748>,\n",
              " 'months': <gensim.models.keyedvectors.Vocab at 0x7ff9064f1c18>,\n",
              " 'more': <gensim.models.keyedvectors.Vocab at 0x7ff9064f3518>,\n",
              " 'mukul': <gensim.models.keyedvectors.Vocab at 0x7ff9064f11d0>,\n",
              " 'nabi': <gensim.models.keyedvectors.Vocab at 0x7ff9064f1080>,\n",
              " 'national': <gensim.models.keyedvectors.Vocab at 0x7ff9064f3c88>,\n",
              " 'ndtv': <gensim.models.keyedvectors.Vocab at 0x7ff9064f3d30>,\n",
              " 'need': <gensim.models.keyedvectors.Vocab at 0x7ff9064f3908>,\n",
              " 'nehru-gandhi': <gensim.models.keyedvectors.Vocab at 0x7ff9064fe908>,\n",
              " 'new': <gensim.models.keyedvectors.Vocab at 0x7ff906545cf8>,\n",
              " 'no': <gensim.models.keyedvectors.Vocab at 0x7ff9064f3358>,\n",
              " 'not': <gensim.models.keyedvectors.Vocab at 0x7ff9064f1c88>,\n",
              " 'number': <gensim.models.keyedvectors.Vocab at 0x7ff9064fb278>,\n",
              " 'nurturing': <gensim.models.keyedvectors.Vocab at 0x7ff9064f3550>,\n",
              " 'obituary': <gensim.models.keyedvectors.Vocab at 0x7ff9064fb8d0>,\n",
              " 'of': <gensim.models.keyedvectors.Vocab at 0x7ff906545ba8>,\n",
              " 'on': <gensim.models.keyedvectors.Vocab at 0x7ff9064fbe80>,\n",
              " 'once': <gensim.models.keyedvectors.Vocab at 0x7ff9064fed30>,\n",
              " 'one': <gensim.models.keyedvectors.Vocab at 0x7ff9064fec18>,\n",
              " 'only': <gensim.models.keyedvectors.Vocab at 0x7ff9064fbe48>,\n",
              " 'open': <gensim.models.keyedvectors.Vocab at 0x7ff9064f1e80>,\n",
              " 'or': <gensim.models.keyedvectors.Vocab at 0x7ff9064fbba8>,\n",
              " 'order': <gensim.models.keyedvectors.Vocab at 0x7ff9064f1d68>,\n",
              " 'organisational': <gensim.models.keyedvectors.Vocab at 0x7ff9064fe6d8>,\n",
              " 'organisations': <gensim.models.keyedvectors.Vocab at 0x7ff9064fbd30>,\n",
              " 'otherwise': <gensim.models.keyedvectors.Vocab at 0x7ff9064f39e8>,\n",
              " 'ourselves': <gensim.models.keyedvectors.Vocab at 0x7ff9064f1e48>,\n",
              " 'over': <gensim.models.keyedvectors.Vocab at 0x7ff9064fb0b8>,\n",
              " 'overwhelmingly': <gensim.models.keyedvectors.Vocab at 0x7ff9064f1710>,\n",
              " 'panels': <gensim.models.keyedvectors.Vocab at 0x7ff9064fe630>,\n",
              " 'parliamentary': <gensim.models.keyedvectors.Vocab at 0x7ff9064fb748>,\n",
              " 'part': <gensim.models.keyedvectors.Vocab at 0x7ff906545b70>,\n",
              " 'particular': <gensim.models.keyedvectors.Vocab at 0x7ff9064f3e10>,\n",
              " 'parties': <gensim.models.keyedvectors.Vocab at 0x7ff9064fecc0>,\n",
              " 'party': <gensim.models.keyedvectors.Vocab at 0x7ff906545eb8>,\n",
              " 'patrons': <gensim.models.keyedvectors.Vocab at 0x7ff9064fbc88>,\n",
              " 'pcc': <gensim.models.keyedvectors.Vocab at 0x7ff9064fe2e8>,\n",
              " 'platform': <gensim.models.keyedvectors.Vocab at 0x7ff9064fec50>,\n",
              " 'policy': <gensim.models.keyedvectors.Vocab at 0x7ff9064fb6a0>,\n",
              " 'political': <gensim.models.keyedvectors.Vocab at 0x7ff9064fec88>,\n",
              " 'polled': <gensim.models.keyedvectors.Vocab at 0x7ff9064f1b38>,\n",
              " 'powerful': <gensim.models.keyedvectors.Vocab at 0x7ff9064fbc50>,\n",
              " 'presently': <gensim.models.keyedvectors.Vocab at 0x7ff9064f1f60>,\n",
              " 'purpose': <gensim.models.keyedvectors.Vocab at 0x7ff9064fe128>,\n",
              " 'rattled': <gensim.models.keyedvectors.Vocab at 0x7ff9064f1358>,\n",
              " 'reactive': <gensim.models.keyedvectors.Vocab at 0x7ff9064fb4a8>,\n",
              " 'reasons': <gensim.models.keyedvectors.Vocab at 0x7ff9064f3438>,\n",
              " 'reconstituted': <gensim.models.keyedvectors.Vocab at 0x7ff9064fe668>,\n",
              " 'reduced': <gensim.models.keyedvectors.Vocab at 0x7ff9064fb7b8>,\n",
              " 'references': <gensim.models.keyedvectors.Vocab at 0x7ff9064fb908>,\n",
              " 'reflected': <gensim.models.keyedvectors.Vocab at 0x7ff9064f3710>,\n",
              " 'remain': <gensim.models.keyedvectors.Vocab at 0x7ff906545ac8>,\n",
              " 'resource-rich': <gensim.models.keyedvectors.Vocab at 0x7ff9064fbb38>,\n",
              " 'revitalise': <gensim.models.keyedvectors.Vocab at 0x7ff9064fe048>,\n",
              " 'revival.praising': <gensim.models.keyedvectors.Vocab at 0x7ff9064fe8d0>,\n",
              " 'said': <gensim.models.keyedvectors.Vocab at 0x7ff906545940>,\n",
              " 'saying': <gensim.models.keyedvectors.Vocab at 0x7ff9064fb780>,\n",
              " 'says': <gensim.models.keyedvectors.Vocab at 0x7ff906545f98>,\n",
              " 'says.veteran': <gensim.models.keyedvectors.Vocab at 0x7ff9064f3f98>,\n",
              " 'secular': <gensim.models.keyedvectors.Vocab at 0x7ff9064fea20>,\n",
              " 'selection': <gensim.models.keyedvectors.Vocab at 0x7ff9064fbac8>,\n",
              " 'sense': <gensim.models.keyedvectors.Vocab at 0x7ff9064fe0f0>,\n",
              " 'serious': <gensim.models.keyedvectors.Vocab at 0x7ff9064f3f28>,\n",
              " 'setting': <gensim.models.keyedvectors.Vocab at 0x7ff9064fb630>,\n",
              " 'share': <gensim.models.keyedvectors.Vocab at 0x7ff9064f1860>,\n",
              " 'sharma': <gensim.models.keyedvectors.Vocab at 0x7ff9064f1198>,\n",
              " 'sharply': <gensim.models.keyedvectors.Vocab at 0x7ff9064f1898>,\n",
              " 'shashi': <gensim.models.keyedvectors.Vocab at 0x7ff9064f1240>,\n",
              " 'should': <gensim.models.keyedvectors.Vocab at 0x7ff9064feb70>,\n",
              " 'sibal': <gensim.models.keyedvectors.Vocab at 0x7ff9064f1128>,\n",
              " 'signatories': <gensim.models.keyedvectors.Vocab at 0x7ff9064f12e8>,\n",
              " 'sincere': <gensim.models.keyedvectors.Vocab at 0x7ff9064feb00>,\n",
              " 'so': <gensim.models.keyedvectors.Vocab at 0x7ff9064f1ef0>,\n",
              " 'songs': <gensim.models.keyedvectors.Vocab at 0x7ff9064fbe10>,\n",
              " 'sonia': <gensim.models.keyedvectors.Vocab at 0x7ff906545f28>,\n",
              " 'split': <gensim.models.keyedvectors.Vocab at 0x7ff9064f1390>,\n",
              " 'stake': <gensim.models.keyedvectors.Vocab at 0x7ff9064f1f98>,\n",
              " 'state': <gensim.models.keyedvectors.Vocab at 0x7ff9064fb9b0>,\n",
              " 'states': <gensim.models.keyedvectors.Vocab at 0x7ff9064f37f0>,\n",
              " 'steady': <gensim.models.keyedvectors.Vocab at 0x7ff9064f30f0>,\n",
              " 'stem': <gensim.models.keyedvectors.Vocab at 0x7ff9064f1da0>,\n",
              " 'successive': <gensim.models.keyedvectors.Vocab at 0x7ff9064f3748>,\n",
              " 'suggestions': <gensim.models.keyedvectors.Vocab at 0x7ff9064fbfd0>,\n",
              " 'support': <gensim.models.keyedvectors.Vocab at 0x7ff9064f3da0>,\n",
              " 'taken': <gensim.models.keyedvectors.Vocab at 0x7ff9064f1dd8>,\n",
              " 'tharoor': <gensim.models.keyedvectors.Vocab at 0x7ff9064f1278>,\n",
              " 'that': <gensim.models.keyedvectors.Vocab at 0x7ff9064f14a8>,\n",
              " 'the': <gensim.models.keyedvectors.Vocab at 0x7ff9236ac6d8>,\n",
              " 'their': <gensim.models.keyedvectors.Vocab at 0x7ff9064fbf98>,\n",
              " 'there': <gensim.models.keyedvectors.Vocab at 0x7ff906545fd0>,\n",
              " 'they': <gensim.models.keyedvectors.Vocab at 0x7ff9064fb9e8>,\n",
              " 'thinking': <gensim.models.keyedvectors.Vocab at 0x7ff9064fe470>,\n",
              " 'those': <gensim.models.keyedvectors.Vocab at 0x7ff9064fbbe0>,\n",
              " 'time': <gensim.models.keyedvectors.Vocab at 0x7ff9064f1668>,\n",
              " 'to': <gensim.models.keyedvectors.Vocab at 0x7ff906545e80>,\n",
              " 'transparent': <gensim.models.keyedvectors.Vocab at 0x7ff9064fe5c0>,\n",
              " 'two': <gensim.models.keyedvectors.Vocab at 0x7ff9064f1518>,\n",
              " 'uncertainty': <gensim.models.keyedvectors.Vocab at 0x7ff9064fb080>,\n",
              " 'undertaken': <gensim.models.keyedvectors.Vocab at 0x7ff9064f1cc0>,\n",
              " 'upon': <gensim.models.keyedvectors.Vocab at 0x7ff9064f1e10>,\n",
              " 'urgently': <gensim.models.keyedvectors.Vocab at 0x7ff9064fe400>,\n",
              " 'verdict': <gensim.models.keyedvectors.Vocab at 0x7ff9064f1c50>,\n",
              " 'verdicts': <gensim.models.keyedvectors.Vocab at 0x7ff9064f37b8>,\n",
              " 'visible': <gensim.models.keyedvectors.Vocab at 0x7ff9064fe240>,\n",
              " 'vote': <gensim.models.keyedvectors.Vocab at 0x7ff9064f1828>,\n",
              " 'voted': <gensim.models.keyedvectors.Vocab at 0x7ff9064f16d8>,\n",
              " 'voters': <gensim.models.keyedvectors.Vocab at 0x7ff9064f16a0>,\n",
              " 'votes': <gensim.models.keyedvectors.Vocab at 0x7ff9064f1b00>,\n",
              " 'was': <gensim.models.keyedvectors.Vocab at 0x7ff9064fb320>,\n",
              " 'wasnik': <gensim.models.keyedvectors.Vocab at 0x7ff9064f1208>,\n",
              " 'we': <gensim.models.keyedvectors.Vocab at 0x7ff9064f36a0>,\n",
              " 'weakened': <gensim.models.keyedvectors.Vocab at 0x7ff9064fb198>,\n",
              " 'well': <gensim.models.keyedvectors.Vocab at 0x7ff9064f3c18>,\n",
              " 'were': <gensim.models.keyedvectors.Vocab at 0x7ff9064fb400>,\n",
              " 'which': <gensim.models.keyedvectors.Vocab at 0x7ff9064f3b38>,\n",
              " 'while': <gensim.models.keyedvectors.Vocab at 0x7ff9064f17b8>,\n",
              " 'who': <gensim.models.keyedvectors.Vocab at 0x7ff9064fecf8>,\n",
              " 'will': <gensim.models.keyedvectors.Vocab at 0x7ff9064f3a20>,\n",
              " 'with': <gensim.models.keyedvectors.Vocab at 0x7ff9064fb1d0>,\n",
              " 'without': <gensim.models.keyedvectors.Vocab at 0x7ff9064fb940>,\n",
              " 'witnessed': <gensim.models.keyedvectors.Vocab at 0x7ff9064f31d0>,\n",
              " 'workers': <gensim.models.keyedvectors.Vocab at 0x7ff9064fb160>,\n",
              " 'working': <gensim.models.keyedvectors.Vocab at 0x7ff9064fb2b0>,\n",
              " 'would': <gensim.models.keyedvectors.Vocab at 0x7ff9065459e8>,\n",
              " 'write': <gensim.models.keyedvectors.Vocab at 0x7ff9064f1470>,\n",
              " 'youth': <gensim.models.keyedvectors.Vocab at 0x7ff9064f3eb8>}"
            ]
          },
          "metadata": {
            "tags": []
          },
          "execution_count": 23
        }
      ]
    },
    {
      "cell_type": "code",
      "metadata": {
        "colab": {
          "base_uri": "https://localhost:8080/",
          "height": 357
        },
        "id": "TLxd2ne_LtdS",
        "outputId": "ce52b59e-fddc-4cc1-a9a1-2cdf31eef9fc"
      },
      "source": [
        "data = open('/content/Web-Scrapping/2ndUrlData.txt')\n",
        "test_data = []\n",
        "for i in data:\n",
        "  test_data.append(word_tokenize(i.lower()))\n",
        "\n",
        "test_data\n",
        "test_doc_vector = model.infer_vector(test_data)\n",
        "model.docvecs.most_similar(positive=[test_doc_vector])"
      ],
      "execution_count": 37,
      "outputs": [
        {
          "output_type": "error",
          "ename": "TypeError",
          "evalue": "ignored",
          "traceback": [
            "\u001b[0;31m---------------------------------------------------------------------------\u001b[0m",
            "\u001b[0;31mTypeError\u001b[0m                                 Traceback (most recent call last)",
            "\u001b[0;32m<ipython-input-37-f9c9a1460770>\u001b[0m in \u001b[0;36m<module>\u001b[0;34m()\u001b[0m\n\u001b[1;32m      5\u001b[0m \u001b[0;34m\u001b[0m\u001b[0m\n\u001b[1;32m      6\u001b[0m \u001b[0mtest_data\u001b[0m\u001b[0;34m\u001b[0m\u001b[0;34m\u001b[0m\u001b[0m\n\u001b[0;32m----> 7\u001b[0;31m \u001b[0mtest_doc_vector\u001b[0m \u001b[0;34m=\u001b[0m \u001b[0mmodel\u001b[0m\u001b[0;34m.\u001b[0m\u001b[0minfer_vector\u001b[0m\u001b[0;34m(\u001b[0m\u001b[0mtest_data\u001b[0m\u001b[0;34m)\u001b[0m\u001b[0;34m\u001b[0m\u001b[0;34m\u001b[0m\u001b[0m\n\u001b[0m\u001b[1;32m      8\u001b[0m \u001b[0mmodel\u001b[0m\u001b[0;34m.\u001b[0m\u001b[0mdocvecs\u001b[0m\u001b[0;34m.\u001b[0m\u001b[0mmost_similar\u001b[0m\u001b[0;34m(\u001b[0m\u001b[0mpositive\u001b[0m\u001b[0;34m=\u001b[0m\u001b[0;34m[\u001b[0m\u001b[0mtest_doc_vector\u001b[0m\u001b[0;34m]\u001b[0m\u001b[0;34m)\u001b[0m\u001b[0;34m\u001b[0m\u001b[0;34m\u001b[0m\u001b[0m\n",
            "\u001b[0;32m/usr/local/lib/python3.6/dist-packages/gensim/models/doc2vec.py\u001b[0m in \u001b[0;36minfer_vector\u001b[0;34m(self, doc_words, alpha, min_alpha, epochs, steps)\u001b[0m\n\u001b[1;32m    901\u001b[0m         \u001b[0mepochs\u001b[0m \u001b[0;34m=\u001b[0m \u001b[0mepochs\u001b[0m \u001b[0;32mor\u001b[0m \u001b[0msteps\u001b[0m \u001b[0;32mor\u001b[0m \u001b[0mself\u001b[0m\u001b[0;34m.\u001b[0m\u001b[0mepochs\u001b[0m\u001b[0;34m\u001b[0m\u001b[0;34m\u001b[0m\u001b[0m\n\u001b[1;32m    902\u001b[0m \u001b[0;34m\u001b[0m\u001b[0m\n\u001b[0;32m--> 903\u001b[0;31m         \u001b[0mdoctag_vectors\u001b[0m\u001b[0;34m,\u001b[0m \u001b[0mdoctag_locks\u001b[0m \u001b[0;34m=\u001b[0m \u001b[0mself\u001b[0m\u001b[0;34m.\u001b[0m\u001b[0mtrainables\u001b[0m\u001b[0;34m.\u001b[0m\u001b[0mget_doctag_trainables\u001b[0m\u001b[0;34m(\u001b[0m\u001b[0mdoc_words\u001b[0m\u001b[0;34m,\u001b[0m \u001b[0mself\u001b[0m\u001b[0;34m.\u001b[0m\u001b[0mdocvecs\u001b[0m\u001b[0;34m.\u001b[0m\u001b[0mvector_size\u001b[0m\u001b[0;34m)\u001b[0m\u001b[0;34m\u001b[0m\u001b[0;34m\u001b[0m\u001b[0m\n\u001b[0m\u001b[1;32m    904\u001b[0m         \u001b[0mdoctag_indexes\u001b[0m \u001b[0;34m=\u001b[0m \u001b[0;34m[\u001b[0m\u001b[0;36m0\u001b[0m\u001b[0;34m]\u001b[0m\u001b[0;34m\u001b[0m\u001b[0;34m\u001b[0m\u001b[0m\n\u001b[1;32m    905\u001b[0m         \u001b[0mwork\u001b[0m \u001b[0;34m=\u001b[0m \u001b[0mzeros\u001b[0m\u001b[0;34m(\u001b[0m\u001b[0mself\u001b[0m\u001b[0;34m.\u001b[0m\u001b[0mtrainables\u001b[0m\u001b[0;34m.\u001b[0m\u001b[0mlayer1_size\u001b[0m\u001b[0;34m,\u001b[0m \u001b[0mdtype\u001b[0m\u001b[0;34m=\u001b[0m\u001b[0mREAL\u001b[0m\u001b[0;34m)\u001b[0m\u001b[0;34m\u001b[0m\u001b[0;34m\u001b[0m\u001b[0m\n",
            "\u001b[0;32m/usr/local/lib/python3.6/dist-packages/gensim/models/doc2vec.py\u001b[0m in \u001b[0;36mget_doctag_trainables\u001b[0;34m(self, doc_words, vector_size)\u001b[0m\n\u001b[1;32m   1451\u001b[0m     \u001b[0;32mdef\u001b[0m \u001b[0mget_doctag_trainables\u001b[0m\u001b[0;34m(\u001b[0m\u001b[0mself\u001b[0m\u001b[0;34m,\u001b[0m \u001b[0mdoc_words\u001b[0m\u001b[0;34m,\u001b[0m \u001b[0mvector_size\u001b[0m\u001b[0;34m)\u001b[0m\u001b[0;34m:\u001b[0m\u001b[0;34m\u001b[0m\u001b[0;34m\u001b[0m\u001b[0m\n\u001b[1;32m   1452\u001b[0m         \u001b[0mdoctag_vectors\u001b[0m \u001b[0;34m=\u001b[0m \u001b[0mzeros\u001b[0m\u001b[0;34m(\u001b[0m\u001b[0;34m(\u001b[0m\u001b[0;36m1\u001b[0m\u001b[0;34m,\u001b[0m \u001b[0mvector_size\u001b[0m\u001b[0;34m)\u001b[0m\u001b[0;34m,\u001b[0m \u001b[0mdtype\u001b[0m\u001b[0;34m=\u001b[0m\u001b[0mREAL\u001b[0m\u001b[0;34m)\u001b[0m\u001b[0;34m\u001b[0m\u001b[0;34m\u001b[0m\u001b[0m\n\u001b[0;32m-> 1453\u001b[0;31m         \u001b[0mdoctag_vectors\u001b[0m\u001b[0;34m[\u001b[0m\u001b[0;36m0\u001b[0m\u001b[0;34m]\u001b[0m \u001b[0;34m=\u001b[0m \u001b[0mself\u001b[0m\u001b[0;34m.\u001b[0m\u001b[0mseeded_vector\u001b[0m\u001b[0;34m(\u001b[0m\u001b[0;34m' '\u001b[0m\u001b[0;34m.\u001b[0m\u001b[0mjoin\u001b[0m\u001b[0;34m(\u001b[0m\u001b[0mdoc_words\u001b[0m\u001b[0;34m)\u001b[0m\u001b[0;34m,\u001b[0m \u001b[0mvector_size\u001b[0m\u001b[0;34m)\u001b[0m\u001b[0;34m\u001b[0m\u001b[0;34m\u001b[0m\u001b[0m\n\u001b[0m\u001b[1;32m   1454\u001b[0m         \u001b[0mdoctag_locks\u001b[0m \u001b[0;34m=\u001b[0m \u001b[0mones\u001b[0m\u001b[0;34m(\u001b[0m\u001b[0;36m1\u001b[0m\u001b[0;34m,\u001b[0m \u001b[0mdtype\u001b[0m\u001b[0;34m=\u001b[0m\u001b[0mREAL\u001b[0m\u001b[0;34m)\u001b[0m\u001b[0;34m\u001b[0m\u001b[0;34m\u001b[0m\u001b[0m\n\u001b[1;32m   1455\u001b[0m         \u001b[0;32mreturn\u001b[0m \u001b[0mdoctag_vectors\u001b[0m\u001b[0;34m,\u001b[0m \u001b[0mdoctag_locks\u001b[0m\u001b[0;34m\u001b[0m\u001b[0;34m\u001b[0m\u001b[0m\n",
            "\u001b[0;31mTypeError\u001b[0m: sequence item 0: expected str instance, list found"
          ]
        }
      ]
    },
    {
      "cell_type": "code",
      "metadata": {
        "id": "Jynym5uhLyRX"
      },
      "source": [
        ""
      ],
      "execution_count": 37,
      "outputs": []
    },
    {
      "cell_type": "code",
      "metadata": {
        "id": "5g_bEi53L81G"
      },
      "source": [
        ""
      ],
      "execution_count": 32,
      "outputs": []
    },
    {
      "cell_type": "code",
      "metadata": {
        "id": "LfVnafGrMiTh"
      },
      "source": [
        ""
      ],
      "execution_count": 49,
      "outputs": []
    }
  ]
}